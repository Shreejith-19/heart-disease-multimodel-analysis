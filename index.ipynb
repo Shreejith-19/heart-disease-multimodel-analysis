{
 "cells": [
  {
   "cell_type": "code",
   "execution_count": 1,
   "id": "5f5def6f",
   "metadata": {},
   "outputs": [],
   "source": [
    "import pandas as pd\n",
    "import numpy as np\n",
    "import matplotlib.pyplot as plt\n",
    "import seaborn as sns\n",
    "import tensorflow as tf"
   ]
  },
  {
   "cell_type": "markdown",
   "id": "d10f9256",
   "metadata": {},
   "source": [
    "**EDA**"
   ]
  },
  {
   "cell_type": "code",
   "execution_count": 2,
   "id": "6f89884e",
   "metadata": {},
   "outputs": [
    {
     "data": {
      "text/html": [
       "<div>\n",
       "<style scoped>\n",
       "    .dataframe tbody tr th:only-of-type {\n",
       "        vertical-align: middle;\n",
       "    }\n",
       "\n",
       "    .dataframe tbody tr th {\n",
       "        vertical-align: top;\n",
       "    }\n",
       "\n",
       "    .dataframe thead th {\n",
       "        text-align: right;\n",
       "    }\n",
       "</style>\n",
       "<table border=\"1\" class=\"dataframe\">\n",
       "  <thead>\n",
       "    <tr style=\"text-align: right;\">\n",
       "      <th></th>\n",
       "      <th>id</th>\n",
       "      <th>age</th>\n",
       "      <th>sex</th>\n",
       "      <th>dataset</th>\n",
       "      <th>cp</th>\n",
       "      <th>trestbps</th>\n",
       "      <th>chol</th>\n",
       "      <th>fbs</th>\n",
       "      <th>restecg</th>\n",
       "      <th>thalch</th>\n",
       "      <th>exang</th>\n",
       "      <th>oldpeak</th>\n",
       "      <th>slope</th>\n",
       "      <th>ca</th>\n",
       "      <th>thal</th>\n",
       "      <th>num</th>\n",
       "    </tr>\n",
       "  </thead>\n",
       "  <tbody>\n",
       "    <tr>\n",
       "      <th>0</th>\n",
       "      <td>1</td>\n",
       "      <td>63</td>\n",
       "      <td>Male</td>\n",
       "      <td>Cleveland</td>\n",
       "      <td>typical angina</td>\n",
       "      <td>145.0</td>\n",
       "      <td>233.0</td>\n",
       "      <td>True</td>\n",
       "      <td>lv hypertrophy</td>\n",
       "      <td>150.0</td>\n",
       "      <td>False</td>\n",
       "      <td>2.3</td>\n",
       "      <td>downsloping</td>\n",
       "      <td>0.0</td>\n",
       "      <td>fixed defect</td>\n",
       "      <td>0</td>\n",
       "    </tr>\n",
       "    <tr>\n",
       "      <th>1</th>\n",
       "      <td>2</td>\n",
       "      <td>67</td>\n",
       "      <td>Male</td>\n",
       "      <td>Cleveland</td>\n",
       "      <td>asymptomatic</td>\n",
       "      <td>160.0</td>\n",
       "      <td>286.0</td>\n",
       "      <td>False</td>\n",
       "      <td>lv hypertrophy</td>\n",
       "      <td>108.0</td>\n",
       "      <td>True</td>\n",
       "      <td>1.5</td>\n",
       "      <td>flat</td>\n",
       "      <td>3.0</td>\n",
       "      <td>normal</td>\n",
       "      <td>2</td>\n",
       "    </tr>\n",
       "    <tr>\n",
       "      <th>2</th>\n",
       "      <td>3</td>\n",
       "      <td>67</td>\n",
       "      <td>Male</td>\n",
       "      <td>Cleveland</td>\n",
       "      <td>asymptomatic</td>\n",
       "      <td>120.0</td>\n",
       "      <td>229.0</td>\n",
       "      <td>False</td>\n",
       "      <td>lv hypertrophy</td>\n",
       "      <td>129.0</td>\n",
       "      <td>True</td>\n",
       "      <td>2.6</td>\n",
       "      <td>flat</td>\n",
       "      <td>2.0</td>\n",
       "      <td>reversable defect</td>\n",
       "      <td>1</td>\n",
       "    </tr>\n",
       "    <tr>\n",
       "      <th>3</th>\n",
       "      <td>4</td>\n",
       "      <td>37</td>\n",
       "      <td>Male</td>\n",
       "      <td>Cleveland</td>\n",
       "      <td>non-anginal</td>\n",
       "      <td>130.0</td>\n",
       "      <td>250.0</td>\n",
       "      <td>False</td>\n",
       "      <td>normal</td>\n",
       "      <td>187.0</td>\n",
       "      <td>False</td>\n",
       "      <td>3.5</td>\n",
       "      <td>downsloping</td>\n",
       "      <td>0.0</td>\n",
       "      <td>normal</td>\n",
       "      <td>0</td>\n",
       "    </tr>\n",
       "    <tr>\n",
       "      <th>4</th>\n",
       "      <td>5</td>\n",
       "      <td>41</td>\n",
       "      <td>Female</td>\n",
       "      <td>Cleveland</td>\n",
       "      <td>atypical angina</td>\n",
       "      <td>130.0</td>\n",
       "      <td>204.0</td>\n",
       "      <td>False</td>\n",
       "      <td>lv hypertrophy</td>\n",
       "      <td>172.0</td>\n",
       "      <td>False</td>\n",
       "      <td>1.4</td>\n",
       "      <td>upsloping</td>\n",
       "      <td>0.0</td>\n",
       "      <td>normal</td>\n",
       "      <td>0</td>\n",
       "    </tr>\n",
       "  </tbody>\n",
       "</table>\n",
       "</div>"
      ],
      "text/plain": [
       "   id  age     sex    dataset  ...        slope   ca               thal num\n",
       "0   1   63    Male  Cleveland  ...  downsloping  0.0       fixed defect   0\n",
       "1   2   67    Male  Cleveland  ...         flat  3.0             normal   2\n",
       "2   3   67    Male  Cleveland  ...         flat  2.0  reversable defect   1\n",
       "3   4   37    Male  Cleveland  ...  downsloping  0.0             normal   0\n",
       "4   5   41  Female  Cleveland  ...    upsloping  0.0             normal   0\n",
       "\n",
       "[5 rows x 16 columns]"
      ]
     },
     "execution_count": 2,
     "metadata": {},
     "output_type": "execute_result"
    }
   ],
   "source": [
    "df = pd.read_csv(\"data\\heart_disease_uci.csv\")\n",
    "df.head(5)"
   ]
  },
  {
   "cell_type": "code",
   "execution_count": 3,
   "id": "0667fc62",
   "metadata": {},
   "outputs": [
    {
     "name": "stdout",
     "output_type": "stream",
     "text": [
      "<class 'pandas.core.frame.DataFrame'>\n",
      "RangeIndex: 920 entries, 0 to 919\n",
      "Data columns (total 16 columns):\n",
      " #   Column    Non-Null Count  Dtype  \n",
      "---  ------    --------------  -----  \n",
      " 0   id        920 non-null    int64  \n",
      " 1   age       920 non-null    int64  \n",
      " 2   sex       920 non-null    object \n",
      " 3   dataset   920 non-null    object \n",
      " 4   cp        920 non-null    object \n",
      " 5   trestbps  861 non-null    float64\n",
      " 6   chol      890 non-null    float64\n",
      " 7   fbs       830 non-null    object \n",
      " 8   restecg   918 non-null    object \n",
      " 9   thalch    865 non-null    float64\n",
      " 10  exang     865 non-null    object \n",
      " 11  oldpeak   858 non-null    float64\n",
      " 12  slope     611 non-null    object \n",
      " 13  ca        309 non-null    float64\n",
      " 14  thal      434 non-null    object \n",
      " 15  num       920 non-null    int64  \n",
      "dtypes: float64(5), int64(3), object(8)\n",
      "memory usage: 115.1+ KB\n"
     ]
    }
   ],
   "source": [
    "df.info()"
   ]
  },
  {
   "cell_type": "markdown",
   "id": "b0bb995b",
   "metadata": {},
   "source": [
    "**About the Target**\n",
    "<pre>Target : num\n",
    "0 = no heart disease\n",
    "1 = mild heart disease\n",
    "2 = moderate heart disease\n",
    "3 = severe heart disease\n",
    "4 = critical heart disease</pre>"
   ]
  },
  {
   "cell_type": "code",
   "execution_count": 4,
   "id": "5ba9e3d6",
   "metadata": {},
   "outputs": [
    {
     "data": {
      "text/plain": [
       "id            0\n",
       "age           0\n",
       "sex           0\n",
       "dataset       0\n",
       "cp            0\n",
       "trestbps     59\n",
       "chol         30\n",
       "fbs          90\n",
       "restecg       2\n",
       "thalch       55\n",
       "exang        55\n",
       "oldpeak      62\n",
       "slope       309\n",
       "ca          611\n",
       "thal        486\n",
       "num           0\n",
       "dtype: int64"
      ]
     },
     "execution_count": 4,
     "metadata": {},
     "output_type": "execute_result"
    }
   ],
   "source": [
    "df.isna().sum()#NaN values per column"
   ]
  },
  {
   "cell_type": "code",
   "execution_count": 5,
   "id": "7369a5fe",
   "metadata": {},
   "outputs": [
    {
     "data": {
      "text/plain": [
       "ca          66.413043\n",
       "thal        52.826087\n",
       "slope       33.586957\n",
       "fbs          9.782609\n",
       "oldpeak      6.739130\n",
       "trestbps     6.413043\n",
       "thalch       5.978261\n",
       "exang        5.978261\n",
       "chol         3.260870\n",
       "restecg      0.217391\n",
       "id           0.000000\n",
       "age          0.000000\n",
       "sex          0.000000\n",
       "dataset      0.000000\n",
       "cp           0.000000\n",
       "num          0.000000\n",
       "dtype: float64"
      ]
     },
     "execution_count": 5,
     "metadata": {},
     "output_type": "execute_result"
    }
   ],
   "source": [
    "((df.isna().sum()/len(df))*100).sort_values(ascending = False)\n",
    "#percentage of values that are \"NaN\" per column"
   ]
  },
  {
   "cell_type": "code",
   "execution_count": 6,
   "id": "3f399874",
   "metadata": {},
   "outputs": [
    {
     "name": "stdout",
     "output_type": "stream",
     "text": [
      "<class 'pandas.core.frame.DataFrame'>\n",
      "RangeIndex: 920 entries, 0 to 919\n",
      "Data columns (total 12 columns):\n",
      " #   Column    Non-Null Count  Dtype  \n",
      "---  ------    --------------  -----  \n",
      " 0   age       920 non-null    int64  \n",
      " 1   sex       920 non-null    object \n",
      " 2   cp        920 non-null    object \n",
      " 3   trestbps  861 non-null    float64\n",
      " 4   chol      890 non-null    float64\n",
      " 5   fbs       830 non-null    object \n",
      " 6   restecg   918 non-null    object \n",
      " 7   thalch    865 non-null    float64\n",
      " 8   exang     865 non-null    object \n",
      " 9   oldpeak   858 non-null    float64\n",
      " 10  slope     611 non-null    object \n",
      " 11  num       920 non-null    int64  \n",
      "dtypes: float64(4), int64(2), object(6)\n",
      "memory usage: 86.4+ KB\n"
     ]
    }
   ],
   "source": [
    "#dropping \"ca\" and \"thal\" as most of the values are NaN.\n",
    "#dropping \"id\",\"dataset\" as they are not usefull.\n",
    "df.drop(columns = [\"ca\",\"thal\",\"id\",\"dataset\"], inplace = True, errors = \"ignore\")\n",
    "#errors = \"ignore\" to ignore key error on 2nd run\n",
    "df.info()"
   ]
  },
  {
   "cell_type": "code",
   "execution_count": 7,
   "id": "8a7f72b8",
   "metadata": {},
   "outputs": [],
   "source": [
    "cat_features = [\"sex\",\"cp\", \"fbs\", \"restecg\", \"exang\", \"slope\"]\n",
    "non_cat_features = [\"age\", \"trestbps\", \"chol\", \"thalch\", \"oldpeak\"]"
   ]
  },
  {
   "cell_type": "code",
   "execution_count": 8,
   "id": "dddbb82f",
   "metadata": {},
   "outputs": [
    {
     "name": "stdout",
     "output_type": "stream",
     "text": [
      "Number of outliers per column:\n",
      "age: 0\n",
      "trestbps: 42\n",
      "chol: 183\n",
      "thalch: 2\n",
      "oldpeak: 16\n"
     ]
    }
   ],
   "source": [
    "print(\"Number of outliers per column:\")\n",
    "for col in non_cat_features:\n",
    "    q1 = df[col].quantile(0.25)\n",
    "    q3 = df[col].quantile(0.75)\n",
    "    iqr = q3 - q1\n",
    "    lb = q1 - 1.5 * iqr\n",
    "    ub = q3 + 1.5 * iqr\n",
    "    outliers = ((df[col] >= ub) | (df[col] <= lb)).sum()\n",
    "    print(f\"{col}: {outliers}\")"
   ]
  },
  {
   "cell_type": "code",
   "execution_count": 9,
   "id": "22be53a8",
   "metadata": {},
   "outputs": [
    {
     "name": "stdout",
     "output_type": "stream",
     "text": [
      "<class 'pandas.core.frame.DataFrame'>\n",
      "RangeIndex: 920 entries, 0 to 919\n",
      "Data columns (total 12 columns):\n",
      " #   Column    Non-Null Count  Dtype  \n",
      "---  ------    --------------  -----  \n",
      " 0   age       920 non-null    int64  \n",
      " 1   sex       920 non-null    object \n",
      " 2   cp        920 non-null    object \n",
      " 3   trestbps  920 non-null    float64\n",
      " 4   chol      920 non-null    float64\n",
      " 5   fbs       920 non-null    bool   \n",
      " 6   restecg   920 non-null    object \n",
      " 7   thalch    920 non-null    float64\n",
      " 8   exang     920 non-null    bool   \n",
      " 9   oldpeak   920 non-null    float64\n",
      " 10  slope     920 non-null    object \n",
      " 11  num       920 non-null    int64  \n",
      "dtypes: bool(2), float64(4), int64(2), object(4)\n",
      "memory usage: 73.8+ KB\n"
     ]
    },
    {
     "name": "stderr",
     "output_type": "stream",
     "text": [
      "C:\\Users\\shree\\AppData\\Local\\Temp\\ipykernel_11996\\607131246.py:5: FutureWarning: Downcasting object dtype arrays on .fillna, .ffill, .bfill is deprecated and will change in a future version. Call result.infer_objects(copy=False) instead. To opt-in to the future behavior, set `pd.set_option('future.no_silent_downcasting', True)`\n",
      "  df[col] = df[col].fillna(df[col].mode()[0]).infer_objects(copy = False)\n"
     ]
    }
   ],
   "source": [
    "#using median replacement\n",
    "df[non_cat_features] = df[non_cat_features].fillna(df[non_cat_features].median())\n",
    "# the above wont work for mode, as mode() returns an array of frequency for each category\n",
    "for col in cat_features:\n",
    "    df[col] = df[col].fillna(df[col].mode()[0]).infer_objects(copy = False)\n",
    "#infer_objects converts non-object columns typed as \"objects\" into their respective dtype\n",
    "#copy = False => inplace\n",
    "df.info()"
   ]
  },
  {
   "cell_type": "code",
   "execution_count": 10,
   "id": "0531e531",
   "metadata": {},
   "outputs": [
    {
     "data": {
      "text/html": [
       "<div>\n",
       "<style scoped>\n",
       "    .dataframe tbody tr th:only-of-type {\n",
       "        vertical-align: middle;\n",
       "    }\n",
       "\n",
       "    .dataframe tbody tr th {\n",
       "        vertical-align: top;\n",
       "    }\n",
       "\n",
       "    .dataframe thead th {\n",
       "        text-align: right;\n",
       "    }\n",
       "</style>\n",
       "<table border=\"1\" class=\"dataframe\">\n",
       "  <thead>\n",
       "    <tr style=\"text-align: right;\">\n",
       "      <th></th>\n",
       "      <th>age</th>\n",
       "      <th>sex</th>\n",
       "      <th>cp</th>\n",
       "      <th>trestbps</th>\n",
       "      <th>chol</th>\n",
       "      <th>fbs</th>\n",
       "      <th>restecg</th>\n",
       "      <th>thalch</th>\n",
       "      <th>exang</th>\n",
       "      <th>oldpeak</th>\n",
       "      <th>slope</th>\n",
       "      <th>num</th>\n",
       "    </tr>\n",
       "  </thead>\n",
       "  <tbody>\n",
       "    <tr>\n",
       "      <th>0</th>\n",
       "      <td>63</td>\n",
       "      <td>Male</td>\n",
       "      <td>typical angina</td>\n",
       "      <td>145.0</td>\n",
       "      <td>233.0</td>\n",
       "      <td>True</td>\n",
       "      <td>lv hypertrophy</td>\n",
       "      <td>150.0</td>\n",
       "      <td>False</td>\n",
       "      <td>2.3</td>\n",
       "      <td>downsloping</td>\n",
       "      <td>0</td>\n",
       "    </tr>\n",
       "    <tr>\n",
       "      <th>1</th>\n",
       "      <td>67</td>\n",
       "      <td>Male</td>\n",
       "      <td>asymptomatic</td>\n",
       "      <td>160.0</td>\n",
       "      <td>286.0</td>\n",
       "      <td>False</td>\n",
       "      <td>lv hypertrophy</td>\n",
       "      <td>108.0</td>\n",
       "      <td>True</td>\n",
       "      <td>1.5</td>\n",
       "      <td>flat</td>\n",
       "      <td>2</td>\n",
       "    </tr>\n",
       "    <tr>\n",
       "      <th>2</th>\n",
       "      <td>67</td>\n",
       "      <td>Male</td>\n",
       "      <td>asymptomatic</td>\n",
       "      <td>120.0</td>\n",
       "      <td>229.0</td>\n",
       "      <td>False</td>\n",
       "      <td>lv hypertrophy</td>\n",
       "      <td>129.0</td>\n",
       "      <td>True</td>\n",
       "      <td>2.6</td>\n",
       "      <td>flat</td>\n",
       "      <td>1</td>\n",
       "    </tr>\n",
       "    <tr>\n",
       "      <th>3</th>\n",
       "      <td>37</td>\n",
       "      <td>Male</td>\n",
       "      <td>non-anginal</td>\n",
       "      <td>130.0</td>\n",
       "      <td>250.0</td>\n",
       "      <td>False</td>\n",
       "      <td>normal</td>\n",
       "      <td>187.0</td>\n",
       "      <td>False</td>\n",
       "      <td>3.5</td>\n",
       "      <td>downsloping</td>\n",
       "      <td>0</td>\n",
       "    </tr>\n",
       "    <tr>\n",
       "      <th>4</th>\n",
       "      <td>41</td>\n",
       "      <td>Female</td>\n",
       "      <td>atypical angina</td>\n",
       "      <td>130.0</td>\n",
       "      <td>204.0</td>\n",
       "      <td>False</td>\n",
       "      <td>lv hypertrophy</td>\n",
       "      <td>172.0</td>\n",
       "      <td>False</td>\n",
       "      <td>1.4</td>\n",
       "      <td>upsloping</td>\n",
       "      <td>0</td>\n",
       "    </tr>\n",
       "  </tbody>\n",
       "</table>\n",
       "</div>"
      ],
      "text/plain": [
       "   age     sex               cp  trestbps  ...  exang  oldpeak        slope  num\n",
       "0   63    Male   typical angina     145.0  ...  False      2.3  downsloping    0\n",
       "1   67    Male     asymptomatic     160.0  ...   True      1.5         flat    2\n",
       "2   67    Male     asymptomatic     120.0  ...   True      2.6         flat    1\n",
       "3   37    Male      non-anginal     130.0  ...  False      3.5  downsloping    0\n",
       "4   41  Female  atypical angina     130.0  ...  False      1.4    upsloping    0\n",
       "\n",
       "[5 rows x 12 columns]"
      ]
     },
     "execution_count": 10,
     "metadata": {},
     "output_type": "execute_result"
    }
   ],
   "source": [
    "df.head()"
   ]
  },
  {
   "cell_type": "markdown",
   "id": "827cf0af",
   "metadata": {},
   "source": [
    "<i>**Checking for Bias in Target**</i>"
   ]
  },
  {
   "cell_type": "code",
   "execution_count": 11,
   "id": "4f0c2daf",
   "metadata": {},
   "outputs": [
    {
     "data": {
      "image/png": "[encoded data removed]",
      "text/plain": [
       "<Figure size 640x480 with 1 Axes>"
      ]
     },
     "metadata": {},
     "output_type": "display_data"
    }
   ],
   "source": [
    "ax = sns.countplot(data = df, x = \"num\", hue = \"num\", palette = \"crest\")\n",
    "bars = ax.patches\n",
    "for bar in bars:\n",
    "    c = bar.get_x()#left edge of the bar\n",
    "    h = bar.get_height()\n",
    "    w = bar.get_width()\n",
    "    ax.text(c + w/4, c + h/2, f\"{int(h)}\", color = \"white\")\n"
   ]
  },
  {
   "cell_type": "code",
   "execution_count": 12,
   "id": "2be1d8bf",
   "metadata": {},
   "outputs": [
    {
     "data": {
      "image/png": "[encoded data removed]",
      "text/plain": [
       "<Figure size 640x480 with 1 Axes>"
      ]
     },
     "metadata": {},
     "output_type": "display_data"
    }
   ],
   "source": [
    "plt.pie(df[\"num\"].value_counts(), autopct=\"%.2f%%\", labels=[0,1,2,3,4])\n",
    "df[\"num\"].value_counts()\n",
    "plt.show()"
   ]
  },
  {
   "cell_type": "code",
   "execution_count": 13,
   "id": "7dfdc151",
   "metadata": {},
   "outputs": [
    {
     "data": {
      "text/html": [
       "<div>\n",
       "<style scoped>\n",
       "    .dataframe tbody tr th:only-of-type {\n",
       "        vertical-align: middle;\n",
       "    }\n",
       "\n",
       "    .dataframe tbody tr th {\n",
       "        vertical-align: top;\n",
       "    }\n",
       "\n",
       "    .dataframe thead th {\n",
       "        text-align: right;\n",
       "    }\n",
       "</style>\n",
       "<table border=\"1\" class=\"dataframe\">\n",
       "  <thead>\n",
       "    <tr style=\"text-align: right;\">\n",
       "      <th></th>\n",
       "      <th>age</th>\n",
       "      <th>trestbps</th>\n",
       "      <th>chol</th>\n",
       "      <th>thalch</th>\n",
       "      <th>oldpeak</th>\n",
       "      <th>num</th>\n",
       "      <th>sex_Male</th>\n",
       "      <th>cp_atypical angina</th>\n",
       "      <th>cp_non-anginal</th>\n",
       "      <th>cp_typical angina</th>\n",
       "      <th>fbs_True</th>\n",
       "      <th>restecg_normal</th>\n",
       "      <th>restecg_st-t abnormality</th>\n",
       "      <th>exang_True</th>\n",
       "      <th>slope_flat</th>\n",
       "      <th>slope_upsloping</th>\n",
       "    </tr>\n",
       "  </thead>\n",
       "  <tbody>\n",
       "    <tr>\n",
       "      <th>0</th>\n",
       "      <td>63</td>\n",
       "      <td>145.0</td>\n",
       "      <td>233.0</td>\n",
       "      <td>150.0</td>\n",
       "      <td>2.3</td>\n",
       "      <td>0</td>\n",
       "      <td>True</td>\n",
       "      <td>False</td>\n",
       "      <td>False</td>\n",
       "      <td>True</td>\n",
       "      <td>True</td>\n",
       "      <td>False</td>\n",
       "      <td>False</td>\n",
       "      <td>False</td>\n",
       "      <td>False</td>\n",
       "      <td>False</td>\n",
       "    </tr>\n",
       "    <tr>\n",
       "      <th>1</th>\n",
       "      <td>67</td>\n",
       "      <td>160.0</td>\n",
       "      <td>286.0</td>\n",
       "      <td>108.0</td>\n",
       "      <td>1.5</td>\n",
       "      <td>2</td>\n",
       "      <td>True</td>\n",
       "      <td>False</td>\n",
       "      <td>False</td>\n",
       "      <td>False</td>\n",
       "      <td>False</td>\n",
       "      <td>False</td>\n",
       "      <td>False</td>\n",
       "      <td>True</td>\n",
       "      <td>True</td>\n",
       "      <td>False</td>\n",
       "    </tr>\n",
       "    <tr>\n",
       "      <th>2</th>\n",
       "      <td>67</td>\n",
       "      <td>120.0</td>\n",
       "      <td>229.0</td>\n",
       "      <td>129.0</td>\n",
       "      <td>2.6</td>\n",
       "      <td>1</td>\n",
       "      <td>True</td>\n",
       "      <td>False</td>\n",
       "      <td>False</td>\n",
       "      <td>False</td>\n",
       "      <td>False</td>\n",
       "      <td>False</td>\n",
       "      <td>False</td>\n",
       "      <td>True</td>\n",
       "      <td>True</td>\n",
       "      <td>False</td>\n",
       "    </tr>\n",
       "    <tr>\n",
       "      <th>3</th>\n",
       "      <td>37</td>\n",
       "      <td>130.0</td>\n",
       "      <td>250.0</td>\n",
       "      <td>187.0</td>\n",
       "      <td>3.5</td>\n",
       "      <td>0</td>\n",
       "      <td>True</td>\n",
       "      <td>False</td>\n",
       "      <td>True</td>\n",
       "      <td>False</td>\n",
       "      <td>False</td>\n",
       "      <td>True</td>\n",
       "      <td>False</td>\n",
       "      <td>False</td>\n",
       "      <td>False</td>\n",
       "      <td>False</td>\n",
       "    </tr>\n",
       "    <tr>\n",
       "      <th>4</th>\n",
       "      <td>41</td>\n",
       "      <td>130.0</td>\n",
       "      <td>204.0</td>\n",
       "      <td>172.0</td>\n",
       "      <td>1.4</td>\n",
       "      <td>0</td>\n",
       "      <td>False</td>\n",
       "      <td>True</td>\n",
       "      <td>False</td>\n",
       "      <td>False</td>\n",
       "      <td>False</td>\n",
       "      <td>False</td>\n",
       "      <td>False</td>\n",
       "      <td>False</td>\n",
       "      <td>False</td>\n",
       "      <td>True</td>\n",
       "    </tr>\n",
       "    <tr>\n",
       "      <th>...</th>\n",
       "      <td>...</td>\n",
       "      <td>...</td>\n",
       "      <td>...</td>\n",
       "      <td>...</td>\n",
       "      <td>...</td>\n",
       "      <td>...</td>\n",
       "      <td>...</td>\n",
       "      <td>...</td>\n",
       "      <td>...</td>\n",
       "      <td>...</td>\n",
       "      <td>...</td>\n",
       "      <td>...</td>\n",
       "      <td>...</td>\n",
       "      <td>...</td>\n",
       "      <td>...</td>\n",
       "      <td>...</td>\n",
       "    </tr>\n",
       "    <tr>\n",
       "      <th>915</th>\n",
       "      <td>54</td>\n",
       "      <td>127.0</td>\n",
       "      <td>333.0</td>\n",
       "      <td>154.0</td>\n",
       "      <td>0.0</td>\n",
       "      <td>1</td>\n",
       "      <td>False</td>\n",
       "      <td>False</td>\n",
       "      <td>False</td>\n",
       "      <td>False</td>\n",
       "      <td>True</td>\n",
       "      <td>False</td>\n",
       "      <td>True</td>\n",
       "      <td>False</td>\n",
       "      <td>True</td>\n",
       "      <td>False</td>\n",
       "    </tr>\n",
       "    <tr>\n",
       "      <th>916</th>\n",
       "      <td>62</td>\n",
       "      <td>130.0</td>\n",
       "      <td>139.0</td>\n",
       "      <td>140.0</td>\n",
       "      <td>0.5</td>\n",
       "      <td>0</td>\n",
       "      <td>True</td>\n",
       "      <td>False</td>\n",
       "      <td>False</td>\n",
       "      <td>True</td>\n",
       "      <td>False</td>\n",
       "      <td>False</td>\n",
       "      <td>True</td>\n",
       "      <td>False</td>\n",
       "      <td>True</td>\n",
       "      <td>False</td>\n",
       "    </tr>\n",
       "    <tr>\n",
       "      <th>917</th>\n",
       "      <td>55</td>\n",
       "      <td>122.0</td>\n",
       "      <td>223.0</td>\n",
       "      <td>100.0</td>\n",
       "      <td>0.0</td>\n",
       "      <td>2</td>\n",
       "      <td>True</td>\n",
       "      <td>False</td>\n",
       "      <td>False</td>\n",
       "      <td>False</td>\n",
       "      <td>True</td>\n",
       "      <td>False</td>\n",
       "      <td>True</td>\n",
       "      <td>False</td>\n",
       "      <td>True</td>\n",
       "      <td>False</td>\n",
       "    </tr>\n",
       "    <tr>\n",
       "      <th>918</th>\n",
       "      <td>58</td>\n",
       "      <td>130.0</td>\n",
       "      <td>385.0</td>\n",
       "      <td>140.0</td>\n",
       "      <td>0.5</td>\n",
       "      <td>0</td>\n",
       "      <td>True</td>\n",
       "      <td>False</td>\n",
       "      <td>False</td>\n",
       "      <td>False</td>\n",
       "      <td>True</td>\n",
       "      <td>False</td>\n",
       "      <td>False</td>\n",
       "      <td>False</td>\n",
       "      <td>True</td>\n",
       "      <td>False</td>\n",
       "    </tr>\n",
       "    <tr>\n",
       "      <th>919</th>\n",
       "      <td>62</td>\n",
       "      <td>120.0</td>\n",
       "      <td>254.0</td>\n",
       "      <td>93.0</td>\n",
       "      <td>0.0</td>\n",
       "      <td>1</td>\n",
       "      <td>True</td>\n",
       "      <td>True</td>\n",
       "      <td>False</td>\n",
       "      <td>False</td>\n",
       "      <td>False</td>\n",
       "      <td>False</td>\n",
       "      <td>False</td>\n",
       "      <td>True</td>\n",
       "      <td>True</td>\n",
       "      <td>False</td>\n",
       "    </tr>\n",
       "  </tbody>\n",
       "</table>\n",
       "<p>920 rows × 16 columns</p>\n",
       "</div>"
      ],
      "text/plain": [
       "     age  trestbps   chol  ...  exang_True  slope_flat  slope_upsloping\n",
       "0     63     145.0  233.0  ...       False       False            False\n",
       "1     67     160.0  286.0  ...        True        True            False\n",
       "2     67     120.0  229.0  ...        True        True            False\n",
       "3     37     130.0  250.0  ...       False       False            False\n",
       "4     41     130.0  204.0  ...       False       False             True\n",
       "..   ...       ...    ...  ...         ...         ...              ...\n",
       "915   54     127.0  333.0  ...       False        True            False\n",
       "916   62     130.0  139.0  ...       False        True            False\n",
       "917   55     122.0  223.0  ...       False        True            False\n",
       "918   58     130.0  385.0  ...       False        True            False\n",
       "919   62     120.0  254.0  ...        True        True            False\n",
       "\n",
       "[920 rows x 16 columns]"
      ]
     },
     "execution_count": 13,
     "metadata": {},
     "output_type": "execute_result"
    }
   ],
   "source": [
    "df = pd.get_dummies(data = df, prefix = cat_features, columns = cat_features, drop_first = True)\n",
    "df"
   ]
  },
  {
   "cell_type": "code",
   "execution_count": 14,
   "id": "0f3b6647",
   "metadata": {},
   "outputs": [],
   "source": [
    "X = df.drop(columns = [\"num\"])\n",
    "Y = df[\"num\"]"
   ]
  },
  {
   "cell_type": "code",
   "execution_count": 15,
   "id": "18019df4",
   "metadata": {},
   "outputs": [],
   "source": [
    "from sklearn.model_selection import train_test_split\n",
    "x_train, x_test, y_train, y_test = train_test_split(X, Y, train_size = 0.8, random_state = 55)"
   ]
  },
  {
   "cell_type": "markdown",
   "id": "659ddc18",
   "metadata": {},
   "source": [
    "**Naive randomforest Model**"
   ]
  },
  {
   "cell_type": "code",
   "execution_count": 16,
   "id": "1d3a7492",
   "metadata": {},
   "outputs": [
    {
     "name": "stdout",
     "output_type": "stream",
     "text": [
      "              precision    recall  f1-score   support\n",
      "\n",
      "           0       0.75      0.90      0.82        84\n",
      "           1       0.48      0.56      0.52        52\n",
      "           2       0.46      0.30      0.36        20\n",
      "           3       0.38      0.12      0.18        25\n",
      "           4       1.00      0.33      0.50         3\n",
      "\n",
      "    accuracy                           0.62       184\n",
      "   macro avg       0.61      0.44      0.48       184\n",
      "weighted avg       0.59      0.62      0.59       184\n",
      "\n"
     ]
    }
   ],
   "source": [
    "from sklearn.ensemble import RandomForestClassifier\n",
    "from sklearn.model_selection import GridSearchCV\n",
    "from sklearn.metrics import classification_report, accuracy_score\n",
    "params_grid = {\n",
    "    \"n_estimators\": [90,100, 125, 150],\n",
    "    \"max_depth\": [6, 8, 10, 12],\n",
    "    \"min_samples_split\": [2,3,4,5,6],\n",
    "}\n",
    "model = RandomForestClassifier(random_state = 55)\n",
    "grid_search = GridSearchCV(model , params_grid, scoring = \"accuracy\", cv = 5, n_jobs = 4,)\n",
    "grid_search.fit(x_train, y_train)\n",
    "best_model = grid_search.best_estimator_\n",
    "print(classification_report(y_test, best_model.predict(x_test)))\n"
   ]
  },
  {
   "cell_type": "markdown",
   "id": "18feee3a",
   "metadata": {},
   "source": [
    "**Observation:**\n",
    "<pre>Model performs well for class 0\n",
    "Model performs poorly for class 1, 2, 3 ,4 due to low support and recall\n",
    "overall accuracy = 62 %</pre>"
   ]
  },
  {
   "cell_type": "markdown",
   "id": "b8945d8b",
   "metadata": {},
   "source": [
    "**Solving Imbalance**"
   ]
  },
  {
   "cell_type": "markdown",
   "id": "6ee25b38",
   "metadata": {},
   "source": [
    "1)Balancing class weights"
   ]
  },
  {
   "cell_type": "code",
   "execution_count": 17,
   "id": "e75ae3cb",
   "metadata": {},
   "outputs": [
    {
     "name": "stdout",
     "output_type": "stream",
     "text": [
      "              precision    recall  f1-score   support\n",
      "\n",
      "           0       0.81      0.83      0.82        84\n",
      "           1       0.58      0.56      0.57        52\n",
      "           2       0.26      0.35      0.30        20\n",
      "           3       0.31      0.20      0.24        25\n",
      "           4       0.20      0.33      0.25         3\n",
      "\n",
      "    accuracy                           0.61       184\n",
      "   macro avg       0.43      0.45      0.44       184\n",
      "weighted avg       0.61      0.61      0.61       184\n",
      "\n"
     ]
    }
   ],
   "source": [
    "params_grid = {\n",
    "    \"n_estimators\": [90,100, 125, 150],\n",
    "    \"max_depth\": [6, 8, 10, 12],\n",
    "    \"min_samples_split\": [2,3,4,5,6],\n",
    "}\n",
    "model = RandomForestClassifier(random_state = 55, class_weight = \"balanced\")\n",
    "grid_search = GridSearchCV(model , params_grid, scoring = \"accuracy\", cv = 5, n_jobs = 4,)\n",
    "grid_search.fit(x_train, y_train)\n",
    "best_model = grid_search.best_estimator_\n",
    "print(classification_report(y_test, best_model.predict(x_test)))"
   ]
  },
  {
   "cell_type": "markdown",
   "id": "147a454c",
   "metadata": {},
   "source": [
    "2) Random Undersampling"
   ]
  },
  {
   "cell_type": "code",
   "execution_count": 18,
   "id": "cb05e208",
   "metadata": {},
   "outputs": [
    {
     "data": {
      "text/plain": [
       "num\n",
       "0    327\n",
       "1    213\n",
       "2     89\n",
       "3     82\n",
       "4     25\n",
       "Name: count, dtype: int64"
      ]
     },
     "execution_count": 18,
     "metadata": {},
     "output_type": "execute_result"
    }
   ],
   "source": [
    "y_train.value_counts()"
   ]
  },
  {
   "cell_type": "code",
   "execution_count": 19,
   "id": "e68660ad",
   "metadata": {},
   "outputs": [
    {
     "data": {
      "text/plain": [
       "num\n",
       "0    28\n",
       "1    28\n",
       "2    28\n",
       "3    28\n",
       "4    28\n",
       "Name: count, dtype: int64"
      ]
     },
     "execution_count": 19,
     "metadata": {},
     "output_type": "execute_result"
    }
   ],
   "source": [
    "from imblearn.under_sampling import RandomUnderSampler\n",
    "rus = RandomUnderSampler(sampling_strategy = \"auto\")\n",
    "x_resampled, y_resampled = rus.fit_resample(X, Y)\n",
    "y_resampled.value_counts()\n"
   ]
  },
  {
   "cell_type": "code",
   "execution_count": 20,
   "id": "f64cd3f4",
   "metadata": {},
   "outputs": [
    {
     "name": "stdout",
     "output_type": "stream",
     "text": [
      "Training:\n",
      "              precision    recall  f1-score   support\n",
      "\n",
      "           0       1.00      0.95      0.98        21\n",
      "           1       0.95      0.95      0.95        22\n",
      "           2       0.96      0.92      0.94        24\n",
      "           3       0.95      1.00      0.98        21\n",
      "           4       0.92      0.96      0.94        24\n",
      "\n",
      "    accuracy                           0.96       112\n",
      "   macro avg       0.96      0.96      0.96       112\n",
      "weighted avg       0.96      0.96      0.96       112\n",
      "\n",
      "Test:\n",
      "              precision    recall  f1-score   support\n",
      "\n",
      "           0       0.57      0.57      0.57         7\n",
      "           1       0.33      0.33      0.33         6\n",
      "           2       0.25      0.25      0.25         4\n",
      "           3       0.50      0.14      0.22         7\n",
      "           4       0.22      0.50      0.31         4\n",
      "\n",
      "    accuracy                           0.36        28\n",
      "   macro avg       0.38      0.36      0.34        28\n",
      "weighted avg       0.41      0.36      0.35        28\n",
      "\n"
     ]
    }
   ],
   "source": [
    "x_train, x_test, y_train, y_test = train_test_split(x_resampled, y_resampled, train_size = 0.8, random_state = 55)\n",
    "params_grid = {\n",
    "    \"n_estimators\": [90,100, 125, 150],\n",
    "    \"max_depth\": [6, 8, 10, 12],\n",
    "    \"min_samples_split\": [2,3,4,5,6],\n",
    "}\n",
    "model = RandomForestClassifier(random_state = 55)\n",
    "grid_search = GridSearchCV(model , params_grid, scoring = \"accuracy\", cv = 5, n_jobs = 4,)\n",
    "grid_search.fit(x_train, y_train)\n",
    "best_model = grid_search.best_estimator_\n",
    "print(\"Training:\")\n",
    "print(classification_report(y_train, best_model.predict(x_train)))\n",
    "print(\"Test:\")\n",
    "print(classification_report(y_test, best_model.predict(x_test)))"
   ]
  },
  {
   "cell_type": "markdown",
   "id": "30dd65d7",
   "metadata": {},
   "source": [
    "3) Random overSampling"
   ]
  },
  {
   "cell_type": "code",
   "execution_count": 21,
   "id": "d526e2b9",
   "metadata": {},
   "outputs": [
    {
     "data": {
      "text/plain": [
       "num\n",
       "0    411\n",
       "2    411\n",
       "1    411\n",
       "3    411\n",
       "4    411\n",
       "Name: count, dtype: int64"
      ]
     },
     "execution_count": 21,
     "metadata": {},
     "output_type": "execute_result"
    }
   ],
   "source": [
    "from imblearn.over_sampling import RandomOverSampler\n",
    "ros = RandomOverSampler(sampling_strategy = \"auto\")\n",
    "x_resampled, y_resampled = ros.fit_resample(X, Y)\n",
    "y_resampled.value_counts()"
   ]
  },
  {
   "cell_type": "code",
   "execution_count": 22,
   "id": "a3ecd3e1",
   "metadata": {},
   "outputs": [
    {
     "name": "stdout",
     "output_type": "stream",
     "text": [
      "Training:\n",
      "              precision    recall  f1-score   support\n",
      "\n",
      "           0       1.00      0.97      0.98       328\n",
      "           1       0.98      0.98      0.98       331\n",
      "           2       0.98      1.00      0.99       327\n",
      "           3       1.00      1.00      1.00       327\n",
      "           4       0.99      1.00      1.00       331\n",
      "\n",
      "    accuracy                           0.99      1644\n",
      "   macro avg       0.99      0.99      0.99      1644\n",
      "weighted avg       0.99      0.99      0.99      1644\n",
      "\n",
      "Test:\n",
      "              precision    recall  f1-score   support\n",
      "\n",
      "           0       0.83      0.78      0.81        83\n",
      "           1       0.85      0.70      0.77        80\n",
      "           2       0.92      0.96      0.94        84\n",
      "           3       0.87      0.99      0.93        84\n",
      "           4       0.95      1.00      0.98        80\n",
      "\n",
      "    accuracy                           0.89       411\n",
      "   macro avg       0.89      0.89      0.88       411\n",
      "weighted avg       0.89      0.89      0.88       411\n",
      "\n"
     ]
    }
   ],
   "source": [
    "x_train, x_test, y_train, y_test = train_test_split(x_resampled, y_resampled, train_size = 0.8, random_state = 55)\n",
    "params_grid = {\n",
    "    \"n_estimators\": [90,100, 125, 150],\n",
    "    \"max_depth\": [6, 8, 10, 12],\n",
    "    \"min_samples_split\": [2,3,4,5,6],\n",
    "}\n",
    "model = RandomForestClassifier(random_state = 55)\n",
    "grid_search = GridSearchCV(model , params_grid, scoring = \"accuracy\", cv = 5, n_jobs = 4,)\n",
    "grid_search.fit(x_train, y_train)\n",
    "best_model = grid_search.best_estimator_\n",
    "print(\"Training:\")\n",
    "print(classification_report(y_train, best_model.predict(x_train)))\n",
    "print(\"Test:\")\n",
    "print(classification_report(y_test, best_model.predict(x_test)))"
   ]
  },
  {
   "cell_type": "markdown",
   "id": "945b5e9b",
   "metadata": {},
   "source": [
    "4) SMOTE"
   ]
  },
  {
   "cell_type": "code",
   "execution_count": 23,
   "id": "6a5775c5",
   "metadata": {},
   "outputs": [
    {
     "data": {
      "text/plain": [
       "num\n",
       "0    411\n",
       "2    411\n",
       "1    411\n",
       "3    411\n",
       "4    411\n",
       "Name: count, dtype: int64"
      ]
     },
     "execution_count": 23,
     "metadata": {},
     "output_type": "execute_result"
    }
   ],
   "source": [
    "from imblearn.over_sampling import SMOTE\n",
    "smote = SMOTE(sampling_strategy = \"auto\")\n",
    "x_resample, y_resampled = smote.fit_resample(X, Y)\n",
    "y_resampled.value_counts()"
   ]
  },
  {
   "cell_type": "code",
   "execution_count": 24,
   "id": "063c394f",
   "metadata": {},
   "outputs": [],
   "source": [
    "from Utils.models import Models\n",
    "models = Models()"
   ]
  },
  {
   "cell_type": "code",
   "execution_count": 25,
   "id": "d8f88231",
   "metadata": {},
   "outputs": [
    {
     "name": "stdout",
     "output_type": "stream",
     "text": [
      "Training:\n",
      "              precision    recall  f1-score   support\n",
      "\n",
      "           0       1.00      0.97      0.98       328\n",
      "           1       0.98      0.98      0.98       331\n",
      "           2       0.98      1.00      0.99       327\n",
      "           3       1.00      1.00      1.00       327\n",
      "           4       0.99      1.00      1.00       331\n",
      "\n",
      "    accuracy                           0.99      1644\n",
      "   macro avg       0.99      0.99      0.99      1644\n",
      "weighted avg       0.99      0.99      0.99      1644\n",
      "\n",
      "Test:\n",
      "              precision    recall  f1-score   support\n",
      "\n",
      "           0       0.83      0.78      0.81        83\n",
      "           1       0.85      0.70      0.77        80\n",
      "           2       0.92      0.96      0.94        84\n",
      "           3       0.87      0.99      0.93        84\n",
      "           4       0.95      1.00      0.98        80\n",
      "\n",
      "    accuracy                           0.89       411\n",
      "   macro avg       0.89      0.89      0.88       411\n",
      "weighted avg       0.89      0.89      0.88       411\n",
      "\n"
     ]
    }
   ],
   "source": [
    "\n",
    "x_train, x_test, y_train, y_test = train_test_split(x_resampled, y_resampled, train_size = 0.8, random_state = 55)\n",
    "params_grid = {\n",
    "    \"n_estimators\": [90,100, 125, 150],\n",
    "    \"max_depth\": [6, 8, 10, 12],\n",
    "    \"min_samples_split\": [2,3,4,5,6],\n",
    "}\n",
    "rdf_model = RandomForestClassifier(random_state = 55)\n",
    "best_model = models.train_random_forest_model(x_train, y_train, rdf_model, params_grid)\n",
    "print(\"Training:\")\n",
    "print(classification_report(y_train, best_model.predict(x_train)))\n",
    "print(\"Test:\")\n",
    "print(classification_report(y_test, best_model.predict(x_test)))"
   ]
  },
  {
   "cell_type": "markdown",
   "id": "3710e690",
   "metadata": {},
   "source": [
    "5) Stratified splitting with smote"
   ]
  },
  {
   "cell_type": "code",
   "execution_count": 26,
   "id": "bdd71ed7",
   "metadata": {},
   "outputs": [
    {
     "name": "stdout",
     "output_type": "stream",
     "text": [
      "Training Results: \n",
      "              precision    recall  f1-score   support\n",
      "\n",
      "           0       1.00      0.98      0.99       329\n",
      "           1       0.98      0.99      0.99       329\n",
      "           2       0.99      1.00      1.00       328\n",
      "           3       0.99      1.00      1.00       329\n",
      "           4       1.00      1.00      1.00       329\n",
      "\n",
      "    accuracy                           0.99      1644\n",
      "   macro avg       0.99      0.99      0.99      1644\n",
      "weighted avg       0.99      0.99      0.99      1644\n",
      "\n",
      "Test Results :\n",
      "              precision    recall  f1-score   support\n",
      "\n",
      "           0       0.79      0.72      0.75        82\n",
      "           1       0.76      0.68      0.72        82\n",
      "           2       0.92      0.99      0.95        83\n",
      "           3       0.90      0.98      0.94        82\n",
      "           4       0.98      1.00      0.99        82\n",
      "\n",
      "    accuracy                           0.87       411\n",
      "   macro avg       0.87      0.87      0.87       411\n",
      "weighted avg       0.87      0.87      0.87       411\n",
      "\n",
      "test_accuracy =  0.8734793187347932\n"
     ]
    }
   ],
   "source": [
    "x_train, x_test, y_train, y_test = train_test_split(x_resampled, y_resampled, train_size = 0.8, random_state = 55, stratify = y_resampled)\n",
    "params_grid = {\n",
    "    \"n_estimators\": [90,100, 125, 150],\n",
    "    \"max_depth\": [6, 8, 10, 12],\n",
    "    \"min_samples_split\": [2,3,4,5,6],\n",
    "}\n",
    "model = RandomForestClassifier(random_state = 55)\n",
    "best_model = models.train_random_forest_model(x_train, y_train, model ,params_grid)\n",
    "models.test_model(best_model, x_train, y_train, x_test, y_test)"
   ]
  },
  {
   "cell_type": "markdown",
   "id": "13d113e2",
   "metadata": {},
   "source": [
    "**Support Vector Machine**"
   ]
  },
  {
   "cell_type": "code",
   "execution_count": 27,
   "id": "45cdc4f3",
   "metadata": {},
   "outputs": [
    {
     "name": "stdout",
     "output_type": "stream",
     "text": [
      "Training Results: \n",
      "              precision    recall  f1-score   support\n",
      "\n",
      "           0       0.37      1.00      0.54       329\n",
      "           1       1.00      0.54      0.70       329\n",
      "           2       0.00      0.00      0.00       328\n",
      "           3       1.00      0.78      0.88       329\n",
      "           4       1.00      0.98      0.99       329\n",
      "\n",
      "    accuracy                           0.66      1644\n",
      "   macro avg       0.67      0.66      0.62      1644\n",
      "weighted avg       0.67      0.66      0.62      1644\n",
      "\n",
      "Test Results :\n",
      "              precision    recall  f1-score   support\n",
      "\n",
      "           0       0.29      1.00      0.45        82\n",
      "           1       1.00      0.12      0.22        82\n",
      "           2       0.00      0.00      0.00        83\n",
      "           3       1.00      0.52      0.69        82\n",
      "           4       1.00      0.96      0.98        82\n",
      "\n",
      "    accuracy                           0.52       411\n",
      "   macro avg       0.66      0.52      0.47       411\n",
      "weighted avg       0.66      0.52      0.47       411\n",
      "\n",
      "test_accuracy =  0.5206812652068127\n"
     ]
    },
    {
     "name": "stderr",
     "output_type": "stream",
     "text": [
      "c:\\Users\\shree\\OneDrive\\Desktop\\MachineLearning\\venv\\Lib\\site-packages\\sklearn\\metrics\\_classification.py:1471: UndefinedMetricWarning: Precision and F-score are ill-defined and being set to 0.0 in labels with no predicted samples. Use `zero_division` parameter to control this behavior.\n",
      "  _warn_prf(average, modifier, msg_start, len(result))\n",
      "c:\\Users\\shree\\OneDrive\\Desktop\\MachineLearning\\venv\\Lib\\site-packages\\sklearn\\metrics\\_classification.py:1471: UndefinedMetricWarning: Precision and F-score are ill-defined and being set to 0.0 in labels with no predicted samples. Use `zero_division` parameter to control this behavior.\n",
      "  _warn_prf(average, modifier, msg_start, len(result))\n",
      "c:\\Users\\shree\\OneDrive\\Desktop\\MachineLearning\\venv\\Lib\\site-packages\\sklearn\\metrics\\_classification.py:1471: UndefinedMetricWarning: Precision and F-score are ill-defined and being set to 0.0 in labels with no predicted samples. Use `zero_division` parameter to control this behavior.\n",
      "  _warn_prf(average, modifier, msg_start, len(result))\n",
      "c:\\Users\\shree\\OneDrive\\Desktop\\MachineLearning\\venv\\Lib\\site-packages\\sklearn\\metrics\\_classification.py:1471: UndefinedMetricWarning: Precision and F-score are ill-defined and being set to 0.0 in labels with no predicted samples. Use `zero_division` parameter to control this behavior.\n",
      "  _warn_prf(average, modifier, msg_start, len(result))\n",
      "c:\\Users\\shree\\OneDrive\\Desktop\\MachineLearning\\venv\\Lib\\site-packages\\sklearn\\metrics\\_classification.py:1471: UndefinedMetricWarning: Precision and F-score are ill-defined and being set to 0.0 in labels with no predicted samples. Use `zero_division` parameter to control this behavior.\n",
      "  _warn_prf(average, modifier, msg_start, len(result))\n",
      "c:\\Users\\shree\\OneDrive\\Desktop\\MachineLearning\\venv\\Lib\\site-packages\\sklearn\\metrics\\_classification.py:1471: UndefinedMetricWarning: Precision and F-score are ill-defined and being set to 0.0 in labels with no predicted samples. Use `zero_division` parameter to control this behavior.\n",
      "  _warn_prf(average, modifier, msg_start, len(result))\n"
     ]
    }
   ],
   "source": [
    "from sklearn.svm import SVC\n",
    "svc_model = SVC(kernel = \"rbf\", C = 0.1, gamma = 0.5)\n",
    "models.train_SVM_model(svc_model, x_train, y_train)\n",
    "models.test_model(svc_model, x_train, y_train, x_test, y_test)"
   ]
  },
  {
   "cell_type": "code",
   "execution_count": 28,
   "id": "60c81457",
   "metadata": {},
   "outputs": [
    {
     "ename": "ValueError",
     "evalue": "Failed to convert a NumPy array to a Tensor (Unsupported object type int).",
     "output_type": "error",
     "traceback": [
      "\u001b[31m---------------------------------------------------------------------------\u001b[39m",
      "\u001b[31mValueError\u001b[39m                                Traceback (most recent call last)",
      "\u001b[36mCell\u001b[39m\u001b[36m \u001b[39m\u001b[32mIn[28]\u001b[39m\u001b[32m, line 11\u001b[39m\n\u001b[32m      4\u001b[39m \u001b[38;5;28;01mfrom\u001b[39;00m\u001b[38;5;250m \u001b[39m\u001b[34;01mkeras\u001b[39;00m\u001b[34;01m.\u001b[39;00m\u001b[34;01mlosses\u001b[39;00m\u001b[38;5;250m \u001b[39m\u001b[38;5;28;01mimport\u001b[39;00m SparseCategoricalCrossentropy\n\u001b[32m      5\u001b[39m ann_model = Sequential([\n\u001b[32m      6\u001b[39m     Dense(units = \u001b[32m25\u001b[39m, activation = \u001b[33m\"\u001b[39m\u001b[33mrelu\u001b[39m\u001b[33m\"\u001b[39m, kernel_regularizer=l2(\u001b[32m0.001\u001b[39m)),\n\u001b[32m      7\u001b[39m     Dense(units = \u001b[32m15\u001b[39m, activation = \u001b[33m\"\u001b[39m\u001b[33mrelu\u001b[39m\u001b[33m\"\u001b[39m, kernel_regularizer=l2(\u001b[32m0.001\u001b[39m)),\n\u001b[32m      8\u001b[39m     Dense(units = \u001b[32m8\u001b[39m, activation = \u001b[33m\"\u001b[39m\u001b[33mrelu\u001b[39m\u001b[33m\"\u001b[39m, kernel_regularizer=l2(\u001b[32m0.001\u001b[39m)),\n\u001b[32m      9\u001b[39m     Dense(units = \u001b[32m4\u001b[39m, activation = \u001b[33m\"\u001b[39m\u001b[33mlinear\u001b[39m\u001b[33m\"\u001b[39m)\n\u001b[32m     10\u001b[39m ])\n\u001b[32m---> \u001b[39m\u001b[32m11\u001b[39m \u001b[43mann_model\u001b[49m\u001b[43m(\u001b[49m\u001b[43mx_train\u001b[49m\u001b[43m)\u001b[49m\n\u001b[32m     12\u001b[39m ann_model.compile(optimizer = \u001b[33m\"\u001b[39m\u001b[33madam\u001b[39m\u001b[33m\"\u001b[39m,\n\u001b[32m     13\u001b[39m                   loss = SparseCategoricalCrossentropy(from_logits = \u001b[38;5;28;01mTrue\u001b[39;00m)\n\u001b[32m     14\u001b[39m                   )\n\u001b[32m     15\u001b[39m ann_model.fit(x_train, y_train, epochs = \u001b[32m100\u001b[39m)\n",
      "\u001b[36mFile \u001b[39m\u001b[32mc:\\Users\\shree\\OneDrive\\Desktop\\MachineLearning\\venv\\Lib\\site-packages\\keras\\src\\utils\\traceback_utils.py:122\u001b[39m, in \u001b[36mfilter_traceback.<locals>.error_handler\u001b[39m\u001b[34m(*args, **kwargs)\u001b[39m\n\u001b[32m    119\u001b[39m     filtered_tb = _process_traceback_frames(e.__traceback__)\n\u001b[32m    120\u001b[39m     \u001b[38;5;66;03m# To get the full stack trace, call:\u001b[39;00m\n\u001b[32m    121\u001b[39m     \u001b[38;5;66;03m# `keras.config.disable_traceback_filtering()`\u001b[39;00m\n\u001b[32m--> \u001b[39m\u001b[32m122\u001b[39m     \u001b[38;5;28;01mraise\u001b[39;00m e.with_traceback(filtered_tb) \u001b[38;5;28;01mfrom\u001b[39;00m\u001b[38;5;250m \u001b[39m\u001b[38;5;28;01mNone\u001b[39;00m\n\u001b[32m    123\u001b[39m \u001b[38;5;28;01mfinally\u001b[39;00m:\n\u001b[32m    124\u001b[39m     \u001b[38;5;28;01mdel\u001b[39;00m filtered_tb\n",
      "\u001b[36mFile \u001b[39m\u001b[32mc:\\Users\\shree\\OneDrive\\Desktop\\MachineLearning\\venv\\Lib\\site-packages\\optree\\ops.py:766\u001b[39m, in \u001b[36mtree_map\u001b[39m\u001b[34m(func, tree, is_leaf, none_is_leaf, namespace, *rests)\u001b[39m\n\u001b[32m    764\u001b[39m leaves, treespec = _C.flatten(tree, is_leaf, none_is_leaf, namespace)\n\u001b[32m    765\u001b[39m flat_args = [leaves] + [treespec.flatten_up_to(r) \u001b[38;5;28;01mfor\u001b[39;00m r \u001b[38;5;129;01min\u001b[39;00m rests]\n\u001b[32m--> \u001b[39m\u001b[32m766\u001b[39m \u001b[38;5;28;01mreturn\u001b[39;00m \u001b[43mtreespec\u001b[49m\u001b[43m.\u001b[49m\u001b[43munflatten\u001b[49m\u001b[43m(\u001b[49m\u001b[38;5;28;43mmap\u001b[39;49m\u001b[43m(\u001b[49m\u001b[43mfunc\u001b[49m\u001b[43m,\u001b[49m\u001b[43m \u001b[49m\u001b[43m*\u001b[49m\u001b[43mflat_args\u001b[49m\u001b[43m)\u001b[49m\u001b[43m)\u001b[49m\n",
      "\u001b[31mValueError\u001b[39m: Failed to convert a NumPy array to a Tensor (Unsupported object type int)."
     ]
    }
   ],
   "source": [
    "from keras.layers import Dense\n",
    "from keras import Sequential\n",
    "from keras.regularizers import l2\n",
    "from keras.losses import SparseCategoricalCrossentropy\n",
    "ann_model = Sequential([\n",
    "    Dense(units = 25, activation = \"relu\", kernel_regularizer=l2(0.001)),\n",
    "    Dense(units = 15, activation = \"relu\", kernel_regularizer=l2(0.001)),\n",
    "    Dense(units = 8, activation = \"relu\", kernel_regularizer=l2(0.001)),\n",
    "    Dense(units = 4, activation = \"linear\")\n",
    "])\n",
    "ann_model(x_train)\n",
    "ann_model.compile(optimizer = \"adam\",\n",
    "                  loss = SparseCategoricalCrossentropy(from_logits = True)\n",
    "                  )\n",
    "ann_model.fit(x_train, y_train, epochs = 100)\n",
    "models.test_model(ann_model, x_train, y_train)"
   ]
  }
 ],
 "metadata": {
  "kernelspec": {
   "display_name": "venv",
   "language": "python",
   "name": "python3"
  },
  "language_info": {
   "codemirror_mode": {
    "name": "ipython",
    "version": 3
   },
   "file_extension": ".py",
   "mimetype": "text/x-python",
   "name": "python",
   "nbconvert_exporter": "python",
   "pygments_lexer": "ipython3",
   "version": "3.12.0"
  }
 },
 "nbformat": 4,
 "nbformat_minor": 5
}
